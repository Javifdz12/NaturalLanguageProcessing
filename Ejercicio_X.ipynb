{
  "nbformat": 4,
  "nbformat_minor": 0,
  "metadata": {
    "colab": {
      "provenance": [],
      "gpuType": "T4"
    },
    "kernelspec": {
      "name": "python3",
      "display_name": "Python 3"
    },
    "language_info": {
      "name": "python"
    },
    "accelerator": "GPU"
  },
  "cells": [
    {
      "cell_type": "code",
      "source": [
        "from google.colab import drive\n",
        "drive.mount('/content/drive')"
      ],
      "metadata": {
        "colab": {
          "base_uri": "https://localhost:8080/"
        },
        "id": "tbNDvXqf1pB7",
        "outputId": "9a70cf05-aaf8-41ac-a83f-a16673f6bd1c"
      },
      "execution_count": 182,
      "outputs": [
        {
          "output_type": "stream",
          "name": "stdout",
          "text": [
            "Drive already mounted at /content/drive; to attempt to forcibly remount, call drive.mount(\"/content/drive\", force_remount=True).\n"
          ]
        }
      ]
    },
    {
      "cell_type": "markdown",
      "source": [
        "**IMPORTE DE BIBLIOTECAS, MODULOS Y FUNCIONES NECESARIAS**"
      ],
      "metadata": {
        "id": "6HgcIibOvcPx"
      }
    },
    {
      "cell_type": "code",
      "execution_count": 183,
      "metadata": {
        "id": "N7tHVQX0pddt"
      },
      "outputs": [],
      "source": [
        "import pandas as pd\n",
        "import seaborn as sns\n",
        "from sklearn.preprocessing import LabelEncoder\n",
        "from keras.preprocessing.text import Tokenizer\n",
        "from keras.preprocessing.sequence import pad_sequences\n",
        "import numpy as np\n",
        "from keras.utils import to_categorical\n",
        "from sklearn.utils import resample, shuffle\n",
        "import matplotlib.pyplot as plt"
      ]
    },
    {
      "cell_type": "markdown",
      "source": [
        "**LECTURA, LIMPIEZA Y PREPARACIÓN DE DATOS**"
      ],
      "metadata": {
        "id": "w4fAmpirvrXy"
      }
    },
    {
      "cell_type": "code",
      "source": [
        "#Leemos el csv y nos quedamos con los sentimientos y los comentarios que es lo que nos interesa para el ejercicio\n",
        "df=pd.read_csv('/content/drive/MyDrive/Tweets.csv')\n",
        "df=df[['airline_sentiment','text']]\n",
        "\n",
        "#Graficamos la cantidad de datos de cada sentimiento para ver si es necesario balancear las clases\n",
        "# Calcular la cantidad de cada clase\n",
        "conteo_clases = df['airline_sentiment'].value_counts()\n",
        "\n",
        "# Crear el gráfico de barras\n",
        "plt.bar(conteo_clases.index, conteo_clases.values, color='skyblue')\n",
        "\n",
        "plt.xlabel('Clases')\n",
        "plt.ylabel('Cantidad')\n",
        "plt.title('Cantidad de cada clase')\n",
        "#Nos damos que cuenta que hay que balancear clases pero aun asi vamos a probar con todos los datos que por la cantidad de datos es mejor\n",
        "\n",
        "#Creamos las listas textos y etiquetas con los valores de text y airline_sentiment respectivamente\n",
        "texts=df['text'].values\n",
        "labels=df['airline_sentiment'].values\n",
        "\n",
        "#Vamos a utilizar LabelEncoder para convertir etiquetas a números y asi aplicar codificacion one hot a estos\n",
        "label_encoder = LabelEncoder()\n",
        "print(df.shape)\n",
        "\n",
        "# Convertimos las etiquetas a números\n",
        "encoded_data = label_encoder.fit_transform(labels)\n",
        "\n",
        "# Convertimos los números a representación one-hot\n",
        "labels = to_categorical(encoded_data)\n",
        "labels"
      ],
      "metadata": {
        "colab": {
          "base_uri": "https://localhost:8080/",
          "height": 611
        },
        "id": "3P7rROKOp3_z",
        "outputId": "31575d26-6407-44a1-ec5c-deface632873"
      },
      "execution_count": 184,
      "outputs": [
        {
          "output_type": "stream",
          "name": "stdout",
          "text": [
            "(14640, 2)\n"
          ]
        },
        {
          "output_type": "execute_result",
          "data": {
            "text/plain": [
              "array([[0., 1., 0.],\n",
              "       [0., 0., 1.],\n",
              "       [0., 1., 0.],\n",
              "       ...,\n",
              "       [0., 1., 0.],\n",
              "       [1., 0., 0.],\n",
              "       [0., 1., 0.]], dtype=float32)"
            ]
          },
          "metadata": {},
          "execution_count": 184
        },
        {
          "output_type": "display_data",
          "data": {
            "text/plain": [
              "<Figure size 640x480 with 1 Axes>"
            ],
            "image/png": "[encoded data removed]"
          },
          "metadata": {}
        }
      ]
    },
    {
      "cell_type": "markdown",
      "source": [
        "Ahora vamos a tokenizar los textos, ajustar la longitud de las secuencias, preparar las etiquetas en un formato adecuado para el modelo y dividir los datos en conjuntos de entrenamiento, validación y prueba."
      ],
      "metadata": {
        "id": "qQIauUM54Du_"
      }
    },
    {
      "cell_type": "code",
      "source": [
        "# TOKENIZACION\n",
        "# Tamaño de la secuencia de tokens\n",
        "maxlen = 100\n",
        "\n",
        "# Número de secuencias que se van a utilizar para entrenar a la red\n",
        "training_samples = 10000\n",
        "\n",
        "# Número de secuencias que se van a utilizar para validar la red\n",
        "validation_samples = 2640\n",
        "\n",
        "# Número máximo de palabras a considerar (se seleccionarán las palabras más frecuentes)\n",
        "max_words = 10000\n",
        "\n",
        "# Creamos un objeto Tokenizer especificando el número máximo de palabras a tokenizar (num_words).\n",
        "# Este objeto se va a utilizar para convertir texto en secuencias de números enteros.\n",
        "tokenizer = Tokenizer(num_words=max_words)\n",
        "\n",
        "# Utilizamos fit_on_texts para ajusta el Tokenizer a los textos ('texts').\n",
        "tokenizer.fit_on_texts(texts)\n",
        "\n",
        "# Con texts_to_sequences convertimos las secuencias de texto del Tokenizer ajustado a secuencias de números enteros.\n",
        "sequences = tokenizer.texts_to_sequences(texts)\n",
        "\n",
        "# word_index contiene el mapeo de palabras a índices.\n",
        "word_index = tokenizer.word_index\n",
        "print('Found %s unique tokens.' % len(word_index))\n",
        "\n",
        "#AJUSTAR LONGITUD DE LAS SECUENCIAS\n",
        "# Aseguramos que todas las secuencias tengan la misma longitud con Pad sequences. De esta forma si la secuencia por ejemplo tiene 3 palabras/tokens y antes era de esta forma [1,45,23],\n",
        "# ahora sera [0,0,0..1,45,23] que es una vector de tamaño 1xmaxlen, o si la secuencia tiene 5 palabras/tokens y antes era [10,54,103,4,35], ahora sera [0,0...10,54,103,4,35] de tamaño 1xmaxlen.\n",
        "# Esto es necesario ya que no es posible entrenar una red con secuencias de distintos tamaños y además no influye en nada ya que podemos indicarle a la red que pase de los ceros.\n",
        "data = pad_sequences(sequences, maxlen=maxlen)\n",
        "\n",
        "#REFORMATEAR ETIQUETAS\n",
        "# Convertir las etiquetas a un formato adecuado para el modelo\n",
        "labels = np.asarray(labels)\n",
        "print('Shape of data tensor:', data.shape)\n",
        "print('Shape of label tensor:', labels.shape)\n",
        "\n",
        "#DIVISION DE DATOS\n",
        "# Mezclar y dividir los datos en conjuntos de entrenamiento, validación y prueba\n",
        "indices = np.arange(data.shape[0])\n",
        "np.random.shuffle(indices)\n",
        "data = data[indices]\n",
        "labels = labels[indices]\n",
        "sequences=np.array(sequences)[indices]\n",
        "\n",
        "# Conjunto de entrenamiento\n",
        "x_train = data[:training_samples]\n",
        "y_train = labels[:training_samples]\n",
        "\n",
        "# Conjunto de validación\n",
        "x_val = data[training_samples: training_samples + validation_samples]\n",
        "y_val = labels[training_samples: training_samples + validation_samples]\n",
        "\n",
        "# Conjunto de prueba\n",
        "x_test = data[training_samples + validation_samples:]\n",
        "y_test = labels[training_samples + validation_samples:]\n",
        "x_test"
      ],
      "metadata": {
        "colab": {
          "base_uri": "https://localhost:8080/"
        },
        "id": "3l48RUz6qVKy",
        "outputId": "52548a7d-c0b5-40dd-c6cd-d7dbf6027655"
      },
      "execution_count": 185,
      "outputs": [
        {
          "output_type": "stream",
          "name": "stdout",
          "text": [
            "Found 15768 unique tokens.\n",
            "Shape of data tensor: (14640, 100)\n",
            "Shape of label tensor: (14640, 3)\n"
          ]
        },
        {
          "output_type": "stream",
          "name": "stderr",
          "text": [
            "<ipython-input-185-a4f2806c06fd>:46: VisibleDeprecationWarning: Creating an ndarray from ragged nested sequences (which is a list-or-tuple of lists-or-tuples-or ndarrays with different lengths or shapes) is deprecated. If you meant to do this, you must specify 'dtype=object' when creating the ndarray.\n",
            "  sequences=np.array(sequences)[indices]\n"
          ]
        },
        {
          "output_type": "execute_result",
          "data": {
            "text/plain": [
              "array([[   0,    0,    0, ...,  188,  384,  117],\n",
              "       [   0,    0,    0, ..., 2462, 5331,  111],\n",
              "       [   0,    0,    0, ...,  210,  256, 9810],\n",
              "       ...,\n",
              "       [   0,    0,    0, ...,    5, 8349,   54],\n",
              "       [   0,    0,    0, ...,   19,   69,  121],\n",
              "       [   0,    0,    0, ...,  276,    4, 1215]], dtype=int32)"
            ]
          },
          "metadata": {},
          "execution_count": 185
        }
      ]
    },
    {
      "cell_type": "code",
      "source": [
        "sequences[10]"
      ],
      "metadata": {
        "colab": {
          "base_uri": "https://localhost:8080/"
        },
        "id": "WxDPivP3vMZ9",
        "outputId": "713cbed6-9fd1-4569-81e8-8bfaff698139"
      },
      "execution_count": 186,
      "outputs": [
        {
          "output_type": "execute_result",
          "data": {
            "text/plain": [
              "[16,\n",
              " 31,\n",
              " 1,\n",
              " 131,\n",
              " 61,\n",
              " 9930,\n",
              " 1,\n",
              " 253,\n",
              " 864,\n",
              " 15,\n",
              " 197,\n",
              " 64,\n",
              " 29,\n",
              " 53,\n",
              " 45,\n",
              " 14,\n",
              " 90,\n",
              " 214,\n",
              " 90,\n",
              " 2277]"
            ]
          },
          "metadata": {},
          "execution_count": 186
        }
      ]
    },
    {
      "cell_type": "code",
      "source": [
        "x_train[10]"
      ],
      "metadata": {
        "colab": {
          "base_uri": "https://localhost:8080/"
        },
        "id": "YiY0yajpAqKe",
        "outputId": "f1e81573-e415-4a68-eab9-94d7c342b5ce"
      },
      "execution_count": 187,
      "outputs": [
        {
          "output_type": "execute_result",
          "data": {
            "text/plain": [
              "array([   0,    0,    0,    0,    0,    0,    0,    0,    0,    0,    0,\n",
              "          0,    0,    0,    0,    0,    0,    0,    0,    0,    0,    0,\n",
              "          0,    0,    0,    0,    0,    0,    0,    0,    0,    0,    0,\n",
              "          0,    0,    0,    0,    0,    0,    0,    0,    0,    0,    0,\n",
              "          0,    0,    0,    0,    0,    0,    0,    0,    0,    0,    0,\n",
              "          0,    0,    0,    0,    0,    0,    0,    0,    0,    0,    0,\n",
              "          0,    0,    0,    0,    0,    0,    0,    0,    0,    0,    0,\n",
              "          0,    0,    0,   16,   31,    1,  131,   61, 9930,    1,  253,\n",
              "        864,   15,  197,   64,   29,   53,   45,   14,   90,  214,   90,\n",
              "       2277], dtype=int32)"
            ]
          },
          "metadata": {},
          "execution_count": 187
        }
      ]
    },
    {
      "cell_type": "markdown",
      "source": [
        "**CREACIÓN DE LA RED**"
      ],
      "metadata": {
        "id": "746m-5UiymR9"
      }
    },
    {
      "cell_type": "code",
      "source": [
        "from keras.models import Sequential\n",
        "from keras.layers import Embedding, Flatten, Dense, SimpleRNN, Dropout, LSTM\n",
        "\n",
        "from keras.models import Sequential\n",
        "from keras.layers import Embedding, Flatten, Dense, SimpleRNN, Dropout, LSTM\n",
        "\n",
        "# Crear un modelo secuencial\n",
        "model = Sequential()\n",
        "\n",
        "# Capa de Embedding: transforma secuencias de índices en secuencia de vectores densos, es decir por cada indice de la secuencia crea un vector(embedding)\n",
        "# en este caso de 500 dimensiones (1x500), y como input_length que es la longitud de las secuencias (maxlen) es 100 el resultado sera una matriz 100x300\n",
        "# max_words es el número máximo de palabras que considera el Tokenizer.\n",
        "model.add(Embedding(max_words, 500, input_length=maxlen))\n",
        "\n",
        "# Capa LSTM: red recurrente de tipo LSTM con 128 unidades, devuelve todos los estados\n",
        "model.add(LSTM(128, return_sequences=True))\n",
        "# Capa LSTM adicional con 128 unidades, devuelve todos los estados\n",
        "model.add(LSTM(128, return_sequences=True))\n",
        "\n",
        "# Capa Dropout: apaga aleatoriamente un porcentaje de unidades durante el entrenamiento para prevenir el sobreajuste\n",
        "model.add(Dropout(0.2))\n",
        "\n",
        "# Otras dos capas LSTM con 128 unidades y que devuelven todos los estados\n",
        "model.add(LSTM(128, return_sequences=True))\n",
        "model.add(LSTM(128, return_sequences=True))\n",
        "# Última capa LSTM con 128 unidades, solo devuelve el ultimo estado (se usa para la última capa LSTM)\n",
        "model.add(LSTM(128))\n",
        "\n",
        "# Capa densa con 3 unidades y función de activación softmax ya que se trata de problema de clasificacion en 3 clases\n",
        "model.add(Dense(3, activation='softmax'))\n",
        "\n",
        "# Resumen del modelo, que muestra la arquitectura y el número de parámetros entrenables\n",
        "model.summary()\n"
      ],
      "metadata": {
        "colab": {
          "base_uri": "https://localhost:8080/"
        },
        "id": "qeT1KTcMuxyq",
        "outputId": "b10177c9-4bcf-4e24-d80e-f8c5d50431e2"
      },
      "execution_count": 188,
      "outputs": [
        {
          "output_type": "stream",
          "name": "stdout",
          "text": [
            "Model: \"sequential_22\"\n",
            "_________________________________________________________________\n",
            " Layer (type)                Output Shape              Param #   \n",
            "=================================================================\n",
            " embedding_22 (Embedding)    (None, 100, 500)          5000000   \n",
            "                                                                 \n",
            " lstm_108 (LSTM)             (None, 100, 128)          322048    \n",
            "                                                                 \n",
            " lstm_109 (LSTM)             (None, 100, 128)          131584    \n",
            "                                                                 \n",
            " dropout_24 (Dropout)        (None, 100, 128)          0         \n",
            "                                                                 \n",
            " lstm_110 (LSTM)             (None, 100, 128)          131584    \n",
            "                                                                 \n",
            " lstm_111 (LSTM)             (None, 100, 128)          131584    \n",
            "                                                                 \n",
            " lstm_112 (LSTM)             (None, 128)               131584    \n",
            "                                                                 \n",
            " dense_22 (Dense)            (None, 3)                 387       \n",
            "                                                                 \n",
            "=================================================================\n",
            "Total params: 5848771 (22.31 MB)\n",
            "Trainable params: 5848771 (22.31 MB)\n",
            "Non-trainable params: 0 (0.00 Byte)\n",
            "_________________________________________________________________\n"
          ]
        }
      ]
    },
    {
      "cell_type": "markdown",
      "source": [
        "**ENTRENAMIENTO Y EVALUACION DE LA RED**"
      ],
      "metadata": {
        "id": "fjE6tpevyvkZ"
      }
    },
    {
      "cell_type": "code",
      "source": [
        "#Compilamos el modelo utilizando adam como optimizador y categorical_crossentropy como funcion de pérdida ya que se trata de un problema de clasificacion en 3 clases\n",
        "model.compile(optimizer='adam', loss='categorical_crossentropy', metrics=['acc'])\n",
        "#Entrenamos el modelo durante 10 epocas en lotes de 200 y utilizando (x_val, y_val) como datos de validacion\n",
        "history = model.fit(x_train, y_train, epochs=5, batch_size=200, validation_data=(x_val, y_val))"
      ],
      "metadata": {
        "colab": {
          "base_uri": "https://localhost:8080/"
        },
        "id": "QcluQnp8u_As",
        "outputId": "02cf22e4-d7c1-4a53-9b25-0027c62af70a"
      },
      "execution_count": 189,
      "outputs": [
        {
          "output_type": "stream",
          "name": "stdout",
          "text": [
            "Epoch 1/5\n",
            "50/50 [==============================] - 17s 155ms/step - loss: 0.8608 - acc: 0.6217 - val_loss: 0.6983 - val_acc: 0.6928\n",
            "Epoch 2/5\n",
            "50/50 [==============================] - 7s 132ms/step - loss: 0.6404 - acc: 0.7089 - val_loss: 0.6217 - val_acc: 0.7367\n",
            "Epoch 3/5\n",
            "50/50 [==============================] - 4s 90ms/step - loss: 0.4931 - acc: 0.7936 - val_loss: 0.5729 - val_acc: 0.7758\n",
            "Epoch 4/5\n",
            "50/50 [==============================] - 4s 84ms/step - loss: 0.3488 - acc: 0.8683 - val_loss: 0.5839 - val_acc: 0.7705\n",
            "Epoch 5/5\n",
            "50/50 [==============================] - 4s 75ms/step - loss: 0.2605 - acc: 0.9083 - val_loss: 0.6222 - val_acc: 0.7822\n"
          ]
        }
      ]
    },
    {
      "cell_type": "code",
      "source": [
        "import matplotlib.pyplot as plt\n",
        "\n",
        "#Graficamos la accuracy y loss a lo largo de las epochs durante el entrenamiento y la validación para comprobar si se produce overfitting o underfitting\n",
        "\n",
        "acc = history.history['acc']\n",
        "val_acc = history.history['val_acc']\n",
        "loss = history.history['loss']\n",
        "val_loss = history.history['val_loss']\n",
        "\n",
        "epochs = range(1, len(acc) + 1)\n",
        "\n",
        "plt.plot(epochs, acc, 'bo', label='Training acc')\n",
        "plt.plot(epochs, val_acc, 'b', label='Validation acc')\n",
        "plt.title('Training and validation accuracy')\n",
        "plt.legend()\n",
        "\n",
        "plt.figure()\n",
        "\n",
        "plt.plot(epochs, loss, 'bo', label='Training loss')\n",
        "plt.plot(epochs, val_loss, 'b', label='Validation loss')\n",
        "plt.title('Training and validation loss')\n",
        "plt.legend()\n",
        "\n",
        "plt.show()"
      ],
      "metadata": {
        "colab": {
          "base_uri": "https://localhost:8080/",
          "height": 887
        },
        "id": "r5szmN8fvBtU",
        "outputId": "eed623ae-38c1-45ff-f9aa-6b4c0d411a63"
      },
      "execution_count": 190,
      "outputs": [
        {
          "output_type": "display_data",
          "data": {
            "text/plain": [
              "<Figure size 640x480 with 1 Axes>"
            ],
            "image/png": "[encoded data removed]"
          },
          "metadata": {}
        },
        {
          "output_type": "display_data",
          "data": {
            "text/plain": [
              "<Figure size 640x480 with 1 Axes>"
            ],
            "image/png": "[encoded data removed]"
          },
          "metadata": {}
        }
      ]
    },
    {
      "cell_type": "code",
      "source": [
        "#Evaluar el modelo en x_test\n",
        "model.evaluate(x_test, y_test)"
      ],
      "metadata": {
        "colab": {
          "base_uri": "https://localhost:8080/"
        },
        "id": "fYoPotHp0QI3",
        "outputId": "6fbc48ce-e831-4333-a385-4b0fc3faa427"
      },
      "execution_count": 191,
      "outputs": [
        {
          "output_type": "stream",
          "name": "stdout",
          "text": [
            "63/63 [==============================] - 1s 16ms/step - loss: 0.6540 - acc: 0.7830\n"
          ]
        },
        {
          "output_type": "execute_result",
          "data": {
            "text/plain": [
              "[0.6539594531059265, 0.7829999923706055]"
            ]
          },
          "metadata": {},
          "execution_count": 191
        }
      ]
    }
  ]
}